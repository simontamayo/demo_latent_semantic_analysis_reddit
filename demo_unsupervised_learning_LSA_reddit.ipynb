{
 "cells": [
  {
   "cell_type": "markdown",
   "metadata": {},
   "source": [
    "#### Introduction au Machine Learning MINES ParisTech PSL (1A)\n",
    "## Dimensional reduction & Clustering  - Reddit example\n",
    "simon.tamayo@mines-paristech.fr"
   ]
  },
  {
   "cell_type": "markdown",
   "metadata": {},
   "source": [
    "This tutorial is one of the demos used in the course “Introduction to Machine Learning” at MINES ParisTech - PSL Research University, lectured by Simon Tamayo.\n",
    "#### Acknowledgement\n",
    "Most of this demo was adapted from the works of @nicolaskruchten (from DataCratic). A more detailed explanaition of this implementation was given by N. Kruchten in [this video](https://youtu.be/2lpS6gUwiJQ).\n",
    "The original version of the code can be found [here](http://opensource.datacratic.com/mtlpy50/)."
   ]
  },
  {
   "cell_type": "code",
   "execution_count": 1,
   "metadata": {},
   "outputs": [],
   "source": [
    "import pandas as pd \n",
    "import numpy as np\n",
    "import matplotlib.pyplot as plt\n",
    "%matplotlib inline"
   ]
  },
  {
   "cell_type": "code",
   "execution_count": 2,
   "metadata": {},
   "outputs": [],
   "source": [
    "plt.rcParams['figure.figsize'] = [9, 6]\n",
    "# plt.style.use('ggplot')"
   ]
  },
  {
   "cell_type": "markdown",
   "metadata": {},
   "source": [
    "### Inspect data"
   ]
  },
  {
   "cell_type": "code",
   "execution_count": 3,
   "metadata": {},
   "outputs": [
    {
     "data": {
      "text/html": [
       "<div>\n",
       "<style scoped>\n",
       "    .dataframe tbody tr th:only-of-type {\n",
       "        vertical-align: middle;\n",
       "    }\n",
       "\n",
       "    .dataframe tbody tr th {\n",
       "        vertical-align: top;\n",
       "    }\n",
       "\n",
       "    .dataframe thead th {\n",
       "        text-align: right;\n",
       "    }\n",
       "</style>\n",
       "<table border=\"1\" class=\"dataframe\">\n",
       "  <thead>\n",
       "    <tr style=\"text-align: right;\">\n",
       "      <th></th>\n",
       "      <th>user</th>\n",
       "      <th>0</th>\n",
       "      <th>1</th>\n",
       "      <th>2</th>\n",
       "      <th>3</th>\n",
       "      <th>4</th>\n",
       "      <th>5</th>\n",
       "      <th>6</th>\n",
       "      <th>7</th>\n",
       "      <th>8</th>\n",
       "      <th>...</th>\n",
       "      <th>15</th>\n",
       "      <th>16</th>\n",
       "      <th>17</th>\n",
       "      <th>18</th>\n",
       "      <th>19</th>\n",
       "      <th>20</th>\n",
       "      <th>21</th>\n",
       "      <th>22</th>\n",
       "      <th>23</th>\n",
       "      <th>24</th>\n",
       "    </tr>\n",
       "  </thead>\n",
       "  <tbody>\n",
       "    <tr>\n",
       "      <th>0</th>\n",
       "      <td>603</td>\n",
       "      <td>politics</td>\n",
       "      <td>trees</td>\n",
       "      <td>pics</td>\n",
       "      <td></td>\n",
       "      <td></td>\n",
       "      <td></td>\n",
       "      <td></td>\n",
       "      <td></td>\n",
       "      <td></td>\n",
       "      <td>...</td>\n",
       "      <td></td>\n",
       "      <td></td>\n",
       "      <td></td>\n",
       "      <td></td>\n",
       "      <td></td>\n",
       "      <td></td>\n",
       "      <td></td>\n",
       "      <td></td>\n",
       "      <td></td>\n",
       "      <td></td>\n",
       "    </tr>\n",
       "    <tr>\n",
       "      <th>1</th>\n",
       "      <td>604</td>\n",
       "      <td>Metal</td>\n",
       "      <td>AskReddit</td>\n",
       "      <td>tattoos</td>\n",
       "      <td>redditguild</td>\n",
       "      <td>WTF</td>\n",
       "      <td>cocktails</td>\n",
       "      <td>pics</td>\n",
       "      <td>funny</td>\n",
       "      <td>gaming</td>\n",
       "      <td>...</td>\n",
       "      <td>trackers</td>\n",
       "      <td>Minecraft</td>\n",
       "      <td>gainit</td>\n",
       "      <td></td>\n",
       "      <td></td>\n",
       "      <td></td>\n",
       "      <td></td>\n",
       "      <td></td>\n",
       "      <td></td>\n",
       "      <td></td>\n",
       "    </tr>\n",
       "    <tr>\n",
       "      <th>2</th>\n",
       "      <td>605</td>\n",
       "      <td>politics</td>\n",
       "      <td>IAmA</td>\n",
       "      <td>AdviceAnimals</td>\n",
       "      <td>movies</td>\n",
       "      <td>smallbusiness</td>\n",
       "      <td>Republican</td>\n",
       "      <td>todayilearned</td>\n",
       "      <td>AskReddit</td>\n",
       "      <td>WTF</td>\n",
       "      <td>...</td>\n",
       "      <td>atheism</td>\n",
       "      <td>Jeep</td>\n",
       "      <td>Music</td>\n",
       "      <td>grandrapids</td>\n",
       "      <td>reddit.com</td>\n",
       "      <td>videos</td>\n",
       "      <td>yoga</td>\n",
       "      <td>GetMotivated</td>\n",
       "      <td>bestof</td>\n",
       "      <td>ShitRedditSays</td>\n",
       "    </tr>\n",
       "    <tr>\n",
       "      <th>3</th>\n",
       "      <td>606</td>\n",
       "      <td>CrohnsDisease</td>\n",
       "      <td>birthcontrol</td>\n",
       "      <td>IAmA</td>\n",
       "      <td>AdviceAnimals</td>\n",
       "      <td>AskReddit</td>\n",
       "      <td>Endo</td>\n",
       "      <td>WTF</td>\n",
       "      <td>TwoXChromosomes</td>\n",
       "      <td>pics</td>\n",
       "      <td>...</td>\n",
       "      <td>Cartalk</td>\n",
       "      <td>aww</td>\n",
       "      <td></td>\n",
       "      <td></td>\n",
       "      <td></td>\n",
       "      <td></td>\n",
       "      <td></td>\n",
       "      <td></td>\n",
       "      <td></td>\n",
       "      <td></td>\n",
       "    </tr>\n",
       "    <tr>\n",
       "      <th>4</th>\n",
       "      <td>607</td>\n",
       "      <td>space</td>\n",
       "      <td>Fitment</td>\n",
       "      <td>cars</td>\n",
       "      <td>Economics</td>\n",
       "      <td>Libertarian</td>\n",
       "      <td>240sx</td>\n",
       "      <td>UserCars</td>\n",
       "      <td>AskReddit</td>\n",
       "      <td>WTF</td>\n",
       "      <td>...</td>\n",
       "      <td>Drifting</td>\n",
       "      <td>Justrolledintotheshop</td>\n",
       "      <td>atheism</td>\n",
       "      <td>gadgets</td>\n",
       "      <td>videos</td>\n",
       "      <td>business</td>\n",
       "      <td>gamernews</td>\n",
       "      <td>Cartalk</td>\n",
       "      <td>worldnews</td>\n",
       "      <td>carporn</td>\n",
       "    </tr>\n",
       "    <tr>\n",
       "      <th>5</th>\n",
       "      <td>608</td>\n",
       "      <td>politics</td>\n",
       "      <td>Flagstaff</td>\n",
       "      <td>Rainmeter</td>\n",
       "      <td>fffffffuuuuuuuuuuuu</td>\n",
       "      <td>pcgaming</td>\n",
       "      <td>screenshots</td>\n",
       "      <td>truegaming</td>\n",
       "      <td>AdviceAnimals</td>\n",
       "      <td>Guildwars2</td>\n",
       "      <td>...</td>\n",
       "      <td>SuggestALaptop</td>\n",
       "      <td>battlefield3</td>\n",
       "      <td>WTF</td>\n",
       "      <td>starcraft</td>\n",
       "      <td>creepy</td>\n",
       "      <td>pics</td>\n",
       "      <td>funny</td>\n",
       "      <td>darksouls</td>\n",
       "      <td>books</td>\n",
       "      <td>gaming</td>\n",
       "    </tr>\n",
       "    <tr>\n",
       "      <th>6</th>\n",
       "      <td>609</td>\n",
       "      <td>Clarinet</td>\n",
       "      <td>AdviceAnimals</td>\n",
       "      <td>festivals</td>\n",
       "      <td>SubredditDrama</td>\n",
       "      <td>InternetAMA</td>\n",
       "      <td>AskReddit</td>\n",
       "      <td>aves</td>\n",
       "      <td>cringe</td>\n",
       "      <td>MemesIRL</td>\n",
       "      <td>...</td>\n",
       "      <td></td>\n",
       "      <td></td>\n",
       "      <td></td>\n",
       "      <td></td>\n",
       "      <td></td>\n",
       "      <td></td>\n",
       "      <td></td>\n",
       "      <td></td>\n",
       "      <td></td>\n",
       "      <td></td>\n",
       "    </tr>\n",
       "    <tr>\n",
       "      <th>7</th>\n",
       "      <td>610</td>\n",
       "      <td>RedHotChiliPeppers</td>\n",
       "      <td>fffffffuuuuuuuuuuuu</td>\n",
       "      <td>tifu</td>\n",
       "      <td>civ</td>\n",
       "      <td>gameofthrones</td>\n",
       "      <td>IAmA</td>\n",
       "      <td>AdviceAnimals</td>\n",
       "      <td>movies</td>\n",
       "      <td>explainlikeimfive</td>\n",
       "      <td>...</td>\n",
       "      <td>skyrim</td>\n",
       "      <td>WTF</td>\n",
       "      <td>germany</td>\n",
       "      <td>pics</td>\n",
       "      <td>funny</td>\n",
       "      <td>seduction</td>\n",
       "      <td>circlebroke</td>\n",
       "      <td>sto</td>\n",
       "      <td>gaming</td>\n",
       "      <td>4chan</td>\n",
       "    </tr>\n",
       "    <tr>\n",
       "      <th>8</th>\n",
       "      <td>611</td>\n",
       "      <td>beertrade</td>\n",
       "      <td>AskReddit</td>\n",
       "      <td>WTF</td>\n",
       "      <td>beer</td>\n",
       "      <td>batman</td>\n",
       "      <td>BBQ</td>\n",
       "      <td>beerporn</td>\n",
       "      <td>Homebrewing</td>\n",
       "      <td></td>\n",
       "      <td>...</td>\n",
       "      <td></td>\n",
       "      <td></td>\n",
       "      <td></td>\n",
       "      <td></td>\n",
       "      <td></td>\n",
       "      <td></td>\n",
       "      <td></td>\n",
       "      <td></td>\n",
       "      <td></td>\n",
       "      <td></td>\n",
       "    </tr>\n",
       "    <tr>\n",
       "      <th>9</th>\n",
       "      <td>612</td>\n",
       "      <td>politics</td>\n",
       "      <td>2012Elections</td>\n",
       "      <td>Parenting</td>\n",
       "      <td>IAmA</td>\n",
       "      <td>fresno</td>\n",
       "      <td>picrequests</td>\n",
       "      <td>AskReddit</td>\n",
       "      <td>loseit</td>\n",
       "      <td>WTF</td>\n",
       "      <td>...</td>\n",
       "      <td>RedditLaqueristas</td>\n",
       "      <td>atheism</td>\n",
       "      <td>LadyBoners</td>\n",
       "      <td>GradSchool</td>\n",
       "      <td></td>\n",
       "      <td></td>\n",
       "      <td></td>\n",
       "      <td></td>\n",
       "      <td></td>\n",
       "      <td></td>\n",
       "    </tr>\n",
       "  </tbody>\n",
       "</table>\n",
       "<p>10 rows × 26 columns</p>\n",
       "</div>"
      ],
      "text/plain": [
       "   user                   0                    1              2  \\\n",
       "0   603            politics                trees           pics   \n",
       "1   604               Metal            AskReddit        tattoos   \n",
       "2   605            politics                 IAmA  AdviceAnimals   \n",
       "3   606       CrohnsDisease         birthcontrol           IAmA   \n",
       "4   607               space              Fitment           cars   \n",
       "5   608            politics            Flagstaff      Rainmeter   \n",
       "6   609            Clarinet        AdviceAnimals      festivals   \n",
       "7   610  RedHotChiliPeppers  fffffffuuuuuuuuuuuu           tifu   \n",
       "8   611           beertrade            AskReddit            WTF   \n",
       "9   612            politics        2012Elections      Parenting   \n",
       "\n",
       "                     3              4            5              6  \\\n",
       "0                                                                   \n",
       "1          redditguild            WTF    cocktails           pics   \n",
       "2               movies  smallbusiness   Republican  todayilearned   \n",
       "3        AdviceAnimals      AskReddit         Endo            WTF   \n",
       "4            Economics    Libertarian        240sx       UserCars   \n",
       "5  fffffffuuuuuuuuuuuu       pcgaming  screenshots     truegaming   \n",
       "6       SubredditDrama    InternetAMA    AskReddit           aves   \n",
       "7                  civ  gameofthrones         IAmA  AdviceAnimals   \n",
       "8                 beer         batman          BBQ       beerporn   \n",
       "9                 IAmA         fresno  picrequests      AskReddit   \n",
       "\n",
       "                 7                  8       ...                       15  \\\n",
       "0                                           ...                            \n",
       "1            funny             gaming       ...                 trackers   \n",
       "2        AskReddit                WTF       ...                  atheism   \n",
       "3  TwoXChromosomes               pics       ...                  Cartalk   \n",
       "4        AskReddit                WTF       ...                 Drifting   \n",
       "5    AdviceAnimals         Guildwars2       ...           SuggestALaptop   \n",
       "6           cringe           MemesIRL       ...                            \n",
       "7           movies  explainlikeimfive       ...                   skyrim   \n",
       "8      Homebrewing                          ...                            \n",
       "9           loseit                WTF       ...        RedditLaqueristas   \n",
       "\n",
       "                      16          17           18          19         20  \\\n",
       "0                                                                          \n",
       "1              Minecraft      gainit                                       \n",
       "2                   Jeep       Music  grandrapids  reddit.com     videos   \n",
       "3                    aww                                                   \n",
       "4  Justrolledintotheshop     atheism      gadgets      videos   business   \n",
       "5           battlefield3         WTF    starcraft      creepy       pics   \n",
       "6                                                                          \n",
       "7                    WTF     germany         pics       funny  seduction   \n",
       "8                                                                          \n",
       "9                atheism  LadyBoners   GradSchool                          \n",
       "\n",
       "            21            22         23              24  \n",
       "0                                                        \n",
       "1                                                        \n",
       "2         yoga  GetMotivated     bestof  ShitRedditSays  \n",
       "3                                                        \n",
       "4    gamernews       Cartalk  worldnews         carporn  \n",
       "5        funny     darksouls      books          gaming  \n",
       "6                                                        \n",
       "7  circlebroke           sto     gaming           4chan  \n",
       "8                                                        \n",
       "9                                                        \n",
       "\n",
       "[10 rows x 26 columns]"
      ]
     },
     "execution_count": 3,
     "metadata": {},
     "output_type": "execute_result"
    }
   ],
   "source": [
    "data_path = './data/reddit-user-posting-behavior.csv'\n",
    "pd.read_csv(data_path,nrows=10, names=[\"user\"]+list(range(25))).fillna(\"\")"
   ]
  },
  {
   "cell_type": "markdown",
   "metadata": {},
   "source": [
    "### Load data into a sparse matrix\n",
    "In numerical analysis and computer science, a sparse matrix or sparse array is a matrix in which most of the elements are zero. By contrast, if most of the elements are nonzero, then the matrix is considered dense. The number of zero-valued elements divided by the total number of elements (e.g., m × n for an m × n matrix) is called the sparsity of the matrix (which is equal to 1 minus the density of the matrix).\n",
    "\n",
    "In this case we want a matrix: rows are subreddits, columns are users\n",
    "cells will be 1 if user posted to subreddit, otherwise 0"
   ]
  },
  {
   "cell_type": "code",
   "execution_count": 4,
   "metadata": {},
   "outputs": [
    {
     "name": "stdout",
     "output_type": "stream",
     "text": [
      "CPU times: user 3.7 s, sys: 111 ms, total: 3.81 s\n",
      "Wall time: 3.85 s\n"
     ]
    }
   ],
   "source": [
    "%%time\n",
    "user_ids = [] # IDs of users\n",
    "subreddit_ids = [] # IDs of subreddits\n",
    "subreddit_to_id = {} # Dictionnary containing which the names of the subreddit IDs\n",
    "i=0\n",
    "# Open file\n",
    "with open(data_path, 'r') as f:\n",
    "    # Iterate through lines\n",
    "    for line in f:\n",
    "        # Split lines using commas\n",
    "        for sr in line.rstrip().split(\",\")[1:]: \n",
    "            # If the subreddit is new: add it\n",
    "            if sr not in subreddit_to_id:\n",
    "                subreddit_to_id[sr] = len(subreddit_to_id)\n",
    "            user_ids.append(i)\n",
    "            subreddit_ids.append(subreddit_to_id[sr])\n",
    "        i+=1"
   ]
  },
  {
   "cell_type": "code",
   "execution_count": 5,
   "metadata": {},
   "outputs": [],
   "source": [
    "import numpy as np\n",
    "from scipy.sparse import csr_matrix "
   ]
  },
  {
   "cell_type": "code",
   "execution_count": 6,
   "metadata": {},
   "outputs": [
    {
     "name": "stdout",
     "output_type": "stream",
     "text": [
      "(15122, 876961)\n",
      "percentage of the matrix that has information: \n",
      "0.0641\n"
     ]
    }
   ],
   "source": [
    "rows = np.array(subreddit_ids)\n",
    "cols = np.array(user_ids)\n",
    "data = np.ones((len(user_ids),))\n",
    "num_rows = len(subreddit_to_id)\n",
    "num_cols = i\n",
    "\n",
    "# csr_matrix returns a Compressed Sparse Row matrix\n",
    "adj = csr_matrix( (data,(rows,cols)), shape=(num_rows, num_cols) )\n",
    "print(adj.shape)\n",
    "\n",
    "# now we have our matrix, so let's gather up a bit of info about it\n",
    "users_per_subreddit = adj.sum(axis=1).A1\n",
    "subreddits = list(range(len(subreddit_to_id)))\n",
    "for sr in subreddit_to_id:\n",
    "    subreddits[subreddit_to_id[sr]] = sr\n",
    "subreddits = np.array(subreddits)\n",
    "\n",
    "print('percentage of the matrix that has information: ')\n",
    "print(round(adj.sum()/(adj.shape[0]*adj.shape[1])*100,4))"
   ]
  },
  {
   "cell_type": "code",
   "execution_count": 7,
   "metadata": {},
   "outputs": [
    {
     "name": "stdout",
     "output_type": "stream",
     "text": [
      "15122\n",
      "8495597\n"
     ]
    }
   ],
   "source": [
    "print(len(subreddits))\n",
    "print(len(user_ids))"
   ]
  },
  {
   "cell_type": "code",
   "execution_count": 8,
   "metadata": {},
   "outputs": [
    {
     "data": {
      "text/plain": [
       "array([[1., 0., 1., ..., 0., 0., 0.],\n",
       "       [1., 0., 0., ..., 0., 0., 0.],\n",
       "       [1., 1., 1., ..., 0., 1., 0.],\n",
       "       ...,\n",
       "       [0., 0., 0., ..., 0., 0., 0.],\n",
       "       [0., 0., 0., ..., 0., 0., 0.],\n",
       "       [0., 0., 0., ..., 0., 0., 0.]])"
      ]
     },
     "execution_count": 8,
     "metadata": {},
     "output_type": "execute_result"
    }
   ],
   "source": [
    "adj.toarray()"
   ]
  },
  {
   "cell_type": "markdown",
   "metadata": {},
   "source": [
    "### Dimensionality reduction\n",
    "We use TruncatedSVD from scikit-learn. SVD stands for Singular Vector Decomposition"
   ]
  },
  {
   "cell_type": "code",
   "execution_count": null,
   "metadata": {},
   "outputs": [],
   "source": [
    "%%time\n",
    "from sklearn.decomposition import TruncatedSVD \n",
    "from sklearn.preprocessing import normalize \n",
    "svd = TruncatedSVD(n_components=100)\n",
    "embedded_coords = normalize(svd.fit_transform(adj), norm='l1')\n",
    "print(embedded_coords.shape)\n",
    "plt.plot(np.cumsum(svd.explained_variance_ratio_))"
   ]
  },
  {
   "cell_type": "markdown",
   "metadata": {},
   "source": [
    "### A few interesting dimensions (pandas viz)"
   ]
  },
  {
   "cell_type": "code",
   "execution_count": null,
   "metadata": {},
   "outputs": [],
   "source": [
    "pd.DataFrame(subreddits[np.argsort(embedded_coords[:,[0,1,2,3,4]], axis=0)[::-1]], \n",
    "             columns=['0','1','2','3','4'])"
   ]
  },
  {
   "cell_type": "markdown",
   "metadata": {},
   "source": [
    "### Visualizing these dimensions with bokeh"
   ]
  },
  {
   "cell_type": "code",
   "execution_count": null,
   "metadata": {},
   "outputs": [],
   "source": [
    "import bokeh.plotting as bp\n",
    "from bokeh.io import output_notebook\n",
    "from bokeh.models import HoverTool\n",
    "output_notebook()"
   ]
  },
  {
   "cell_type": "markdown",
   "metadata": {},
   "source": [
    "#### Keep only subreddits with more than a given number of users"
   ]
  },
  {
   "cell_type": "code",
   "execution_count": null,
   "metadata": {},
   "outputs": [],
   "source": [
    "row_selector = np.where(users_per_subreddit>100)"
   ]
  },
  {
   "cell_type": "code",
   "execution_count": null,
   "metadata": {},
   "outputs": [],
   "source": [
    "#### Plot the data using the first 2 singular vector "
   ]
  },
  {
   "cell_type": "code",
   "execution_count": null,
   "metadata": {},
   "outputs": [],
   "source": [
    "f = bp.figure(plot_width=800, plot_height=600, \n",
    "          title=\"Subreddit Map\",\n",
    "          x_axis_label = \"Singular vector 0\",\n",
    "          y_axis_label = \"Singular vector 1\",\n",
    "          tools=\"pan,wheel_zoom,box_zoom,reset,hover,previewsave\",\n",
    "       min_border=1)\n",
    "\n",
    "source = bp.ColumnDataSource(data=dict(x=embedded_coords[:,0][row_selector], \n",
    "                                       y=embedded_coords[:,1][row_selector],\n",
    "                                      subreddit=subreddits[row_selector],\n",
    "                                      radius = np.log2(users_per_subreddit[row_selector])/4000))\n",
    "f.scatter(x='x', y='y', radius='radius', source=source,alpha=0.55)\n",
    "f.hover.tooltips=[( 'subreddit','@subreddit')]\n",
    "bp.show(f)"
   ]
  },
  {
   "cell_type": "markdown",
   "metadata": {},
   "source": [
    "### Do clustering in order to colour-code by overall distance\n",
    "Clustering correspond to the family of algorithms for grouping items into buckets"
   ]
  },
  {
   "cell_type": "code",
   "execution_count": null,
   "metadata": {},
   "outputs": [],
   "source": [
    "%%time\n",
    "from scipy.stats import rankdata\n",
    "from sklearn.cluster import KMeans\n",
    "\n",
    "embedded_ranks = np.array([rankdata(c) for c in embedded_coords.T]).T\n",
    "n_clusters = 50\n",
    "km = KMeans(n_clusters)\n",
    "# clusters = km.fit_predict(embedded_ranks)\n",
    "clusters = km.fit_predict(embedded_coords)"
   ]
  },
  {
   "cell_type": "markdown",
   "metadata": {},
   "source": [
    "#### Let's visualize some the first 4 clusters"
   ]
  },
  {
   "cell_type": "code",
   "execution_count": null,
   "metadata": {},
   "outputs": [],
   "source": [
    "pd.DataFrame([subreddits[clusters == i][users_per_subreddit[clusters == i].argsort()[:4][::-1]] for i in range(n_clusters)])"
   ]
  },
  {
   "cell_type": "markdown",
   "metadata": {},
   "source": [
    "#### Assign random colors to the clusters"
   ]
  },
  {
   "cell_type": "code",
   "execution_count": null,
   "metadata": {},
   "outputs": [],
   "source": [
    "colors = []\n",
    "for i in range(n_clusters):\n",
    "    colors.append('%06X' % np.random.randint(0, 0xFFFFFF))"
   ]
  },
  {
   "cell_type": "markdown",
   "metadata": {},
   "source": [
    "#### Plot clustered data using the first 2 principal components"
   ]
  },
  {
   "cell_type": "code",
   "execution_count": null,
   "metadata": {
    "scrolled": false
   },
   "outputs": [],
   "source": [
    "colormap = np.array(colors)\n",
    "f = bp.figure(plot_width=800, plot_height=600, \n",
    "          title=\"Subreddit Map by Interesting Dimensions\",\n",
    "          x_axis_label = \"Singular vector 0\",\n",
    "          y_axis_label = \"Singular vector 1\",\n",
    "          tools=\"pan,wheel_zoom,box_zoom,reset,hover,previewsave\",\n",
    "       min_border=1)\n",
    "\n",
    "source = bp.ColumnDataSource(data=dict(x=embedded_coords[:,0][row_selector], \n",
    "                                       y=embedded_coords[:,1][row_selector],\n",
    "                                      subreddit=subreddits[row_selector],\n",
    "                                      radius = np.log2(users_per_subreddit[row_selector])/5000,\n",
    "                                      color = colormap[clusters[row_selector]]))\n",
    "\n",
    "f.scatter(x='x', y='y', radius='radius', source=source, color='color', alpha=0.55)\n",
    "f.hover.tooltips=[( 'subreddit','@subreddit')]\n",
    "bp.show(f)"
   ]
  },
  {
   "cell_type": "markdown",
   "metadata": {},
   "source": [
    "### Manifold learning : AKA low-dimensional embedding\n",
    "Family of algorithms to transform many dimensions to 2 or 3. In this part We use TSNE (t-distributed Stochastic Neighbor Embedding) from scikit-learn."
   ]
  },
  {
   "cell_type": "code",
   "execution_count": null,
   "metadata": {},
   "outputs": [],
   "source": [
    "%%time\n",
    "from sklearn.manifold import TSNE\n",
    "xycoords = TSNE(random_state=66,\n",
    "                perplexity=50).fit_transform(embedded_coords[row_selector])"
   ]
  },
  {
   "cell_type": "markdown",
   "metadata": {},
   "source": [
    "### Visualize the result of the TNSE algorithm"
   ]
  },
  {
   "cell_type": "code",
   "execution_count": null,
   "metadata": {},
   "outputs": [],
   "source": [
    "bp.reset_output()\n",
    "f = bp.figure(plot_width=900, plot_height=700, title=\"Subreddit Map by t-SNE\",\n",
    "       tools=\"pan,wheel_zoom,box_zoom,reset,hover,previewsave\",\n",
    "       x_axis_type=None, y_axis_type=None, min_border=1)\n",
    "source = bp.ColumnDataSource(data=dict(x=xycoords[:,0], \n",
    "                                       y=xycoords[:,1],\n",
    "                                       subreddit=subreddits[row_selector],\n",
    "                                       radius=np.log2(users_per_subreddit[row_selector])/20,\n",
    "                                       color=colormap[clusters[row_selector]]))\n",
    "f.scatter(x='x', y='y', radius='radius', source=source, color='color', alpha=0.5)\n",
    "f.hover.tooltips=[( 'subreddit','@subreddit')]\n",
    "bp.show(f)\n",
    "bp.output_file('reddit_LSA_result.html')\n",
    "bp.save(f)"
   ]
  },
  {
   "cell_type": "code",
   "execution_count": null,
   "metadata": {},
   "outputs": [],
   "source": []
  }
 ],
 "metadata": {
  "kernelspec": {
   "display_name": "Python 3",
   "language": "python",
   "name": "python3"
  },
  "language_info": {
   "codemirror_mode": {
    "name": "ipython",
    "version": 3
   },
   "file_extension": ".py",
   "mimetype": "text/x-python",
   "name": "python",
   "nbconvert_exporter": "python",
   "pygments_lexer": "ipython3",
   "version": "3.6.6"
  }
 },
 "nbformat": 4,
 "nbformat_minor": 2
}
